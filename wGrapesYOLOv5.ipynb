{
  "cells": [
    {
      "cell_type": "markdown",
      "metadata": {
        "id": "7mGmQbAO5pQb"
      },
      "source": [
        "# Setup\n",
        "\n",
        "Clone GitHub [repository](https://github.com/ultralytics/yolov5), install [dependencies](https://github.com/ultralytics/yolov5/blob/master/requirements.txt) and check PyTorch and GPU."
      ]
    },
    {
      "cell_type": "code",
      "execution_count": null,
      "metadata": {
        "id": "wbvMlHd_QwMG"
      },
      "outputs": [],
      "source": [
        "%cd ..\n",
        "!git clone https://github.com/ultralytics/yolov5  # clone\n",
        "%cd yolov5\n",
        "%pip install -qr requirements.txt  # install\n",
        "%cd data\n",
        "!wget -O grapes.yaml https://www.dropbox.com/s/2fa5kd8hzccsgx0/grapes.yaml?dl=0\n",
        "%cd ..\n",
        "\n",
        "import torch\n",
        "import utils\n",
        "display = utils.notebook_init()  # checks"
      ]
    },
    {
      "cell_type": "code",
      "execution_count": null,
      "metadata": {
        "id": "Q2lvcWuBWqO2"
      },
      "outputs": [],
      "source": [
        "%cd ..\n",
        "%cd content\n",
        "!wget -O data.zip https://zenodo.org/record/6757555/files/wGrapeUNIPD-DL%20dataset.zip?download=1\n",
        "!unzip data.zip\n",
        "!rm wGrapeUNIPD-DL\\ dataset/Calibrated_Images/without_Conting/Chardonnay_BBCH75_20_06_20/_DSC8819.jpg\n",
        "!rm wGrapeUNIPD-DL\\ dataset/Calibrated_Images/without_Conting/Chardonnay_BBCH75_20_06_20/_DSC8819.txt\n",
        "!rm wGrapeUNIPD-DL\\ dataset/Calibrated_Images/with_Counting/Multiple_Cultivar_BBCH83_13_08_20/_counting.txt\n",
        "!wget -O data2.zip https://zenodo.org/record/3361736/files/thsant/wgisd-1.0.0.zip?download=1\n",
        "!unzip data2.zip\n",
        "\n"
      ]
    },
    {
      "cell_type": "code",
      "execution_count": null,
      "metadata": {
        "id": "5jR2f9jZk4pH"
      },
      "outputs": [],
      "source": [
        "%cd ..\n",
        "!rm -r /datasets/grapes/\n",
        "!rm -r /datasets/wgisd/\n",
        "!mkdir /datasets\n",
        "!rm -r /datasets/grapes/labels_eval/\n",
        "!rm -r /datasets/grapes/images_eval/\n",
        "\n",
        "!mkdir /datasets/grapes/\n",
        "!mkdir /datasets/grapes/labels/\n",
        "!mkdir /datasets/grapes/images/\n",
        "!mkdir /datasets/grapes/labels/train\n",
        "!mkdir /datasets/grapes/images/train\n",
        "!mkdir /datasets/grapes/labels/val\n",
        "!mkdir /datasets/grapes/images/val\n",
        "!mkdir /datasets/wgisd/\n",
        "!mkdir /datasets/wgisd/labels/\n",
        "!mkdir /datasets/wgisd/images/\n",
        "!mkdir /datasets/wgisd/labels/train\n",
        "!mkdir /datasets/wgisd/images/train\n",
        "!mkdir /datasets/wgisd/labels/val\n",
        "!mkdir /datasets/wgisd/images/val\n",
        "!cp /content/wGrapeUNIPD-DL\\ dataset/Calibrated_Images/*/*/*.txt /datasets/grapes/labels/train/\n",
        "!cp /content/wGrapeUNIPD-DL\\ dataset/Calibrated_Images/*/*/*.jpg /datasets/grapes/images/train/\n",
        "!cp /content/wGrapeUNIPD-DL\\ dataset/Calibrated_Images/*/*/*.JPG /datasets/grapes/images/train/\n",
        "!cp /content/thsant-wgisd-ab223e5/data/*.txt /datasets/wgisd/labels/train/\n",
        "!cp /content/thsant-wgisd-ab223e5/data/*.jpg /datasets/wgisd/images/train/\n",
        "!cp /content/thsant-wgisd-ab223e5/data/*.JPG /datasets/wgisd/images/train/\n",
        "\n",
        "\n",
        "!rm /datasets/grapes/labels/train/_DSC8819.txt\n",
        "!rm /datasets/grapes/images/train/_DSC8819.jpg\n",
        "\n",
        "import os\n",
        "import random\n",
        "lst = sorted(os.listdir(\"/datasets/grapes/labels/train/\"))\n",
        "lst_imgs = sorted(os.listdir(\"/datasets/grapes/images/train/\"))\n",
        "\n",
        "indici= random.sample(range(0, len(lst)-1), int(len(lst)*0.2))\n",
        "print(len(lst), len(lst_imgs))\n",
        "print(indici)\n",
        "for i in indici:\n",
        "  str_lab= \"/datasets/grapes/labels/train/\"+lst[i]\n",
        "  str_img= \"/datasets/grapes/images/train/\"+lst_imgs[i]\n",
        "  !mv $str_lab /datasets/grapes/labels/val/\n",
        "  !mv $str_img /datasets/grapes/images/val/\n",
        "\n",
        "lst = sorted(os.listdir(\"/datasets/wgisd/labels/train/\"))\n",
        "lst_imgs = sorted(os.listdir(\"/datasets/wgisd/images/train/\"))\n",
        "\n",
        "indici= random.sample(range(0, len(lst)-1), int(len(lst)*0.2))\n",
        "print(len(lst), len(lst_imgs))\n",
        "print(indici)\n",
        "for i in indici:\n",
        "  str_lab= \"/datasets/wgisd/labels/train/\"+lst[i]\n",
        "  str_img= \"/datasets/wgisd/images/train/\"+lst_imgs[i]\n",
        "  !mv $str_lab /datasets/wgisd/labels/val/\n",
        "  !mv $str_img /datasets/wgisd/images/val/\n",
        "\n",
        "print(len(os.listdir(\"/datasets/grapes/labels/train\")), len(os.listdir(\"/datasets/grapes/labels/val\")))\n",
        "\n",
        "\n"
      ]
    },
    {
      "cell_type": "code",
      "execution_count": null,
      "metadata": {
        "id": "1NcFxRcFdJ_O"
      },
      "outputs": [],
      "source": [
        "%cd ..\n",
        "%cd yolov5\n",
        "!python train.py --img 1216 --batch 12 --epochs 40 --data grapes.yaml --weights yolov5s.pt --cache"
      ]
    },
    {
      "cell_type": "markdown",
      "metadata": {
        "id": "0eq1SMWl6Sfn"
      },
      "source": [
        "# 3. Validate\n",
        "Validate a model's accuracy on the [COCO](https://cocodataset.org/#home) dataset's `val` or `test` splits. Models are downloaded automatically from the [latest YOLOv5 release](https://github.com/ultralytics/yolov5/releases). To show results by class use the `--verbose` flag."
      ]
    },
    {
      "cell_type": "code",
      "execution_count": null,
      "metadata": {
        "id": "X58w8JLpMnjH"
      },
      "outputs": [],
      "source": [
        "%cd yolov5\n",
        "!python val.py --weights runs/train/exp3/weights/best.pt --data grapes.yaml --img 1216 --half"
      ]
    },
    {
      "cell_type": "markdown",
      "metadata": {
        "id": "15glLzbQx5u0"
      },
      "source": [
        "# 4. Visualize"
      ]
    },
    {
      "cell_type": "code",
      "source": [
        "str_lab=\"/datasets/wgisd/images/val/{0}\".format(lst_imgs[indici[0]])\n",
        "!python detect.py --weights runs/train/exp/weights/best.pt --img 1216 --conf 0.25 --source $str_lab\n",
        "display.Image(filename=\"/yolov5/runs/detect/exp/{0}\".format(lst_imgs[indici[0]]), width=1216)"
      ],
      "metadata": {
        "id": "jK6AYhOsfLwC"
      },
      "execution_count": null,
      "outputs": []
    },
    {
      "cell_type": "markdown",
      "metadata": {
        "id": "IEijrePND_2I"
      },
      "source": [
        "# Appendix\n",
        "\n",
        "Additional content below."
      ]
    },
    {
      "cell_type": "code",
      "execution_count": null,
      "metadata": {
        "id": "14WFEvwwZqPi"
      },
      "outputs": [],
      "source": [
        "%tensorboard --logdir runs/train --port 6007"
      ]
    },
    {
      "cell_type": "code",
      "execution_count": null,
      "metadata": {
        "id": "HY3awBC7jErk"
      },
      "outputs": [],
      "source": [
        "%cd ..\n",
        "!zip -r /content/file.zip /yolov5/runs/train/"
      ]
    },
    {
      "cell_type": "code",
      "execution_count": null,
      "metadata": {
        "id": "GMusP4OAxFu6"
      },
      "outputs": [],
      "source": [
        "# YOLOv5 PyTorch HUB Inference (DetectionModels only)\n",
        "import torch\n",
        "\n",
        "model = torch.hub.load('ultralytics/yolov5', 'yolov5s', force_reload=True)  # yolov5n - yolov5x6 or custom\n",
        "im = 'https://ultralytics.com/images/zidane.jpg'  # file, Path, PIL.Image, OpenCV, nparray, list\n",
        "results = model(im)  # inference\n",
        "results.print()  # or .show(), .save(), .crop(), .pandas(), etc."
      ]
    }
  ],
  "metadata": {
    "accelerator": "GPU",
    "colab": {
      "private_outputs": true,
      "provenance": [],
      "gpuType": "T4"
    },
    "kernelspec": {
      "display_name": "Python 3",
      "name": "python3"
    }
  },
  "nbformat": 4,
  "nbformat_minor": 0
}